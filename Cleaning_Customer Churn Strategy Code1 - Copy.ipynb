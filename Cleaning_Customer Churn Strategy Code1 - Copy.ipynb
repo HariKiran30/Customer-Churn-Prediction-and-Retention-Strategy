{
 "cells": [
  {
   "cell_type": "code",
   "execution_count": 56,
   "id": "aa96deda",
   "metadata": {},
   "outputs": [
    {
     "name": "stderr",
     "output_type": "stream",
     "text": [
      "C:\\Users\\HARI\\anaconda3\\lib\\site-packages\\scipy\\__init__.py:155: UserWarning: A NumPy version >=1.18.5 and <1.25.0 is required for this version of SciPy (detected version 1.26.4\n",
      "  warnings.warn(f\"A NumPy version >={np_minversion} and <{np_maxversion}\"\n"
     ]
    }
   ],
   "source": [
    "import numpy as np\n",
    "import pandas as pd\n",
    "\n",
    "from sklearn.preprocessing import StandardScaler\n"
   ]
  },
  {
   "cell_type": "code",
   "execution_count": null,
   "id": "4e033174",
   "metadata": {},
   "outputs": [],
   "source": [
    "data = pd.read_json('1telco_customer_churn.json')"
   ]
  },
  {
   "cell_type": "code",
   "execution_count": null,
   "id": "809426ce",
   "metadata": {},
   "outputs": [],
   "source": [
    "data"
   ]
  },
  {
   "cell_type": "markdown",
   "id": "50cbbec6",
   "metadata": {
    "slideshow": {
     "slide_type": "-"
    }
   },
   "source": [
    "# DATA CLEANING AND MANIPULATION"
   ]
  },
  {
   "cell_type": "code",
   "execution_count": null,
   "id": "d08b1346",
   "metadata": {},
   "outputs": [],
   "source": [
    "data.head(\n",
    ")"
   ]
  },
  {
   "cell_type": "code",
   "execution_count": null,
   "id": "2998cc4e",
   "metadata": {},
   "outputs": [],
   "source": [
    "data.dtypes"
   ]
  },
  {
   "cell_type": "code",
   "execution_count": null,
   "id": "3740165f",
   "metadata": {},
   "outputs": [],
   "source": [
    "data.info()"
   ]
  },
  {
   "cell_type": "code",
   "execution_count": null,
   "id": "330c2408",
   "metadata": {},
   "outputs": [],
   "source": [
    "# Changing Total Charges to numeric\n",
    "data['Total Charges'] = pd.to_numeric(data['Total Charges'], errors='coerce')"
   ]
  },
  {
   "cell_type": "code",
   "execution_count": null,
   "id": "999a31c9",
   "metadata": {},
   "outputs": [],
   "source": [
    "data['Senior Citizen']"
   ]
  },
  {
   "cell_type": "code",
   "execution_count": null,
   "id": "e2be938f",
   "metadata": {},
   "outputs": [],
   "source": [
    "# Converting Senior citizen Yes/No to 0 and 1, No = 0, Yes =1\n",
    "# data['Senior Citizen'] = data['Senior Citizen'].astype(int)\n",
    "data['Senior Citizen'] = data['Senior Citizen'].map({'Yes':1,'No':0})\n"
   ]
  },
  {
   "cell_type": "code",
   "execution_count": null,
   "id": "28dcd1d5",
   "metadata": {
    "scrolled": true
   },
   "outputs": [],
   "source": [
    "data['Senior Citizen'].head(15)"
   ]
  },
  {
   "cell_type": "code",
   "execution_count": null,
   "id": "b22de3e2",
   "metadata": {},
   "outputs": [],
   "source": [
    "print(data['Senior Citizen'].unique())\n",
    "print(data['Senior Citizen'].dtype)\n"
   ]
  },
  {
   "cell_type": "code",
   "execution_count": null,
   "id": "1f6b71c2",
   "metadata": {
    "scrolled": false
   },
   "outputs": [],
   "source": [
    "data.isnull().sum()"
   ]
  },
  {
   "cell_type": "code",
   "execution_count": null,
   "id": "0a037232",
   "metadata": {},
   "outputs": [],
   "source": [
    "# data['Churn Reason'].head(50)\n",
    "data['Churn Reason']"
   ]
  },
  {
   "cell_type": "code",
   "execution_count": null,
   "id": "dd4d58ae",
   "metadata": {},
   "outputs": [],
   "source": [
    "# Filling Blank values with NA \n",
    "data['Churn Reason'].fillna('Not Churned', inplace=True)\n"
   ]
  },
  {
   "cell_type": "code",
   "execution_count": null,
   "id": "bde76065",
   "metadata": {},
   "outputs": [],
   "source": [
    "# Checking Unique Values in Multiple Columns"
   ]
  },
  {
   "cell_type": "code",
   "execution_count": null,
   "id": "d1b94253",
   "metadata": {},
   "outputs": [],
   "source": [
    "columns_to_check = ['Senior Citizen', 'Partner', 'Dependents', 'Phone Service', 'Paperless Billing']\n",
    "\n",
    "# Loop through each column and print its unique values\n",
    "for column_name in columns_to_check:\n",
    "    print(f\"'{column_name}' unique values: {data[column_name].unique()}\")"
   ]
  },
  {
   "cell_type": "code",
   "execution_count": null,
   "id": "d6bbfb68",
   "metadata": {},
   "outputs": [],
   "source": [
    "# Converting ['Senior Citizen', 'Partner', 'Dependents', 'Phone Service', 'Paperless Billing']\n",
    "# Yes/No to 0 and 1, No = 0, Yes =1\n"
   ]
  },
  {
   "cell_type": "code",
   "execution_count": null,
   "id": "a1f528f7",
   "metadata": {},
   "outputs": [],
   "source": [
    "binary_cols = ['Partner', 'Dependents', 'Phone Service', 'Paperless Billing']\n",
    "for col in binary_cols:\n",
    "    data[col] = data[col].map({'Yes': 1, 'No': 0})\n"
   ]
  },
  {
   "cell_type": "code",
   "execution_count": null,
   "id": "582f8f81",
   "metadata": {},
   "outputs": [],
   "source": [
    "\n",
    "columns_to_check = ['Senior Citizen', 'Partner', 'Dependents', 'Phone Service', 'Paperless Billing']\n",
    "\n",
    "# Loop through each column and print its unique values\n",
    "for column_name in columns_to_check:\n",
    "    print(f\"'{column_name}' unique values: {data[column_name].unique()}\")"
   ]
  },
  {
   "cell_type": "code",
   "execution_count": null,
   "id": "aef3e286",
   "metadata": {},
   "outputs": [],
   "source": []
  },
  {
   "cell_type": "code",
   "execution_count": null,
   "id": "33542b10",
   "metadata": {},
   "outputs": [],
   "source": [
    "\n",
    "\n",
    "data['Multiple Lines'] = data['Multiple Lines'].replace({'No phone service': 'No'})\n",
    "data['Multiple Lines'] = data['Multiple Lines'].map({'Yes':1,'No':0})"
   ]
  },
  {
   "cell_type": "code",
   "execution_count": null,
   "id": "4df100af",
   "metadata": {},
   "outputs": [],
   "source": [
    "data['Multiple Lines'].unique()"
   ]
  },
  {
   "cell_type": "markdown",
   "id": "1807ef5d",
   "metadata": {},
   "source": [
    "# "
   ]
  },
  {
   "cell_type": "code",
   "execution_count": 58,
   "id": "10ea2fae",
   "metadata": {},
   "outputs": [],
   "source": [
    "\n",
    "# Normalize/Scale Numerical Features (for modeling)\n",
    "\n",
    "from sklearn.preprocessing import StandardScaler\n",
    "\n",
    "scaler = StandardScaler()\n",
    "data[['Monthly Charges', 'Total Charges', 'Tenure Months']] = scaler.fit_transform(\n",
    "    data[['Monthly Charges', 'Total Charges', 'Tenure Months']]\n",
    ")\n"
   ]
  },
  {
   "cell_type": "code",
   "execution_count": 59,
   "id": "b96a7c5f",
   "metadata": {},
   "outputs": [
    {
     "name": "stdout",
     "output_type": "stream",
     "text": [
      "CustomerID            0\n",
      "Count                 0\n",
      "Country               0\n",
      "State                 0\n",
      "City                  0\n",
      "Zip Code              0\n",
      "Lat Long              0\n",
      "Latitude              0\n",
      "Longitude             0\n",
      "Gender                0\n",
      "Senior Citizen        0\n",
      "Partner               0\n",
      "Dependents            0\n",
      "Tenure Months         0\n",
      "Phone Service         0\n",
      "Multiple Lines        0\n",
      "Internet Service      0\n",
      "Online Security       0\n",
      "Online Backup         0\n",
      "Device Protection     0\n",
      "Tech Support          0\n",
      "Streaming TV          0\n",
      "Streaming Movies      0\n",
      "Contract              0\n",
      "Paperless Billing     0\n",
      "Payment Method        0\n",
      "Monthly Charges       0\n",
      "Total Charges        11\n",
      "Churn Label           0\n",
      "Churn Value           0\n",
      "Churn Score           0\n",
      "CLTV                  0\n",
      "Churn Reason          0\n",
      "dtype: int64\n",
      "CustomerID            object\n",
      "Count                  int64\n",
      "Country               object\n",
      "State                 object\n",
      "City                  object\n",
      "Zip Code               int64\n",
      "Lat Long              object\n",
      "Latitude             float64\n",
      "Longitude            float64\n",
      "Gender                object\n",
      "Senior Citizen         int64\n",
      "Partner                int64\n",
      "Dependents             int64\n",
      "Tenure Months        float64\n",
      "Phone Service          int64\n",
      "Multiple Lines         int64\n",
      "Internet Service      object\n",
      "Online Security       object\n",
      "Online Backup         object\n",
      "Device Protection     object\n",
      "Tech Support          object\n",
      "Streaming TV          object\n",
      "Streaming Movies      object\n",
      "Contract              object\n",
      "Paperless Billing      int64\n",
      "Payment Method        object\n",
      "Monthly Charges      float64\n",
      "Total Charges        float64\n",
      "Churn Label           object\n",
      "Churn Value            int64\n",
      "Churn Score            int64\n",
      "CLTV                   int64\n",
      "Churn Reason          object\n",
      "dtype: object\n"
     ]
    }
   ],
   "source": [
    "print(data.isnull().sum())\n",
    "print(data.dtypes)\n"
   ]
  },
  {
   "cell_type": "code",
   "execution_count": null,
   "id": "267ae38b",
   "metadata": {},
   "outputs": [],
   "source": []
  },
  {
   "cell_type": "code",
   "execution_count": 60,
   "id": "9d46e186",
   "metadata": {},
   "outputs": [],
   "source": [
    "cat_cols = ['Internet Service', 'Contract', 'Payment Method', 'Gender']\n",
    "data = pd.get_dummies(data, columns=cat_cols, drop_first=True)\n"
   ]
  },
  {
   "cell_type": "code",
   "execution_count": 61,
   "id": "8fed351b",
   "metadata": {},
   "outputs": [
    {
     "name": "stdout",
     "output_type": "stream",
     "text": [
      "0\n"
     ]
    }
   ],
   "source": [
    "print(data.duplicated().sum())\n",
    "data.drop_duplicates(inplace=True)\n"
   ]
  },
  {
   "cell_type": "code",
   "execution_count": 62,
   "id": "1525dde9",
   "metadata": {},
   "outputs": [],
   "source": [
    "from sklearn.preprocessing import StandardScaler\n",
    "\n",
    "scaler = StandardScaler()\n",
    "data[['Monthly Charges', 'Total Charges', 'Tenure Months']] = scaler.fit_transform(\n",
    "    data[['Monthly Charges', 'Total Charges', 'Tenure Months']]\n",
    ")\n"
   ]
  },
  {
   "cell_type": "code",
   "execution_count": 63,
   "id": "7ad87a30",
   "metadata": {},
   "outputs": [
    {
     "name": "stdout",
     "output_type": "stream",
     "text": [
      "CustomerID                                 0\n",
      "Count                                      0\n",
      "Country                                    0\n",
      "State                                      0\n",
      "City                                       0\n",
      "Zip Code                                   0\n",
      "Lat Long                                   0\n",
      "Latitude                                   0\n",
      "Longitude                                  0\n",
      "Senior Citizen                             0\n",
      "Partner                                    0\n",
      "Dependents                                 0\n",
      "Tenure Months                              0\n",
      "Phone Service                              0\n",
      "Multiple Lines                             0\n",
      "Online Security                            0\n",
      "Online Backup                              0\n",
      "Device Protection                          0\n",
      "Tech Support                               0\n",
      "Streaming TV                               0\n",
      "Streaming Movies                           0\n",
      "Paperless Billing                          0\n",
      "Monthly Charges                            0\n",
      "Total Charges                             11\n",
      "Churn Label                                0\n",
      "Churn Value                                0\n",
      "Churn Score                                0\n",
      "CLTV                                       0\n",
      "Churn Reason                               0\n",
      "Internet Service_Fiber optic               0\n",
      "Internet Service_No                        0\n",
      "Contract_One year                          0\n",
      "Contract_Two year                          0\n",
      "Payment Method_Credit card (automatic)     0\n",
      "Payment Method_Electronic check            0\n",
      "Payment Method_Mailed check                0\n",
      "Gender_Male                                0\n",
      "dtype: int64\n",
      "CustomerID                                 object\n",
      "Count                                       int64\n",
      "Country                                    object\n",
      "State                                      object\n",
      "City                                       object\n",
      "Zip Code                                    int64\n",
      "Lat Long                                   object\n",
      "Latitude                                  float64\n",
      "Longitude                                 float64\n",
      "Senior Citizen                              int64\n",
      "Partner                                     int64\n",
      "Dependents                                  int64\n",
      "Tenure Months                             float64\n",
      "Phone Service                               int64\n",
      "Multiple Lines                              int64\n",
      "Online Security                            object\n",
      "Online Backup                              object\n",
      "Device Protection                          object\n",
      "Tech Support                               object\n",
      "Streaming TV                               object\n",
      "Streaming Movies                           object\n",
      "Paperless Billing                           int64\n",
      "Monthly Charges                           float64\n",
      "Total Charges                             float64\n",
      "Churn Label                                object\n",
      "Churn Value                                 int64\n",
      "Churn Score                                 int64\n",
      "CLTV                                        int64\n",
      "Churn Reason                               object\n",
      "Internet Service_Fiber optic                uint8\n",
      "Internet Service_No                         uint8\n",
      "Contract_One year                           uint8\n",
      "Contract_Two year                           uint8\n",
      "Payment Method_Credit card (automatic)      uint8\n",
      "Payment Method_Electronic check             uint8\n",
      "Payment Method_Mailed check                 uint8\n",
      "Gender_Male                                 uint8\n",
      "dtype: object\n"
     ]
    }
   ],
   "source": [
    "print(data.isnull().sum())\n",
    "print(data.dtypes)\n"
   ]
  },
  {
   "cell_type": "code",
   "execution_count": 64,
   "id": "66fe858d",
   "metadata": {},
   "outputs": [],
   "source": [
    "# Total Charges has 11 Null, Filling with Median\n",
    "data['Total Charges'].fillna(data['Total Charges'].median(), inplace=True)\n"
   ]
  },
  {
   "cell_type": "code",
   "execution_count": null,
   "id": "ced13147",
   "metadata": {},
   "outputs": [],
   "source": []
  },
  {
   "cell_type": "code",
   "execution_count": 65,
   "id": "1d5e88ef",
   "metadata": {},
   "outputs": [],
   "source": [
    "internet_cols = [\n",
    "    'Online Security', 'Online Backup', 'Device Protection',\n",
    "    'Tech Support', 'Streaming TV', 'Streaming Movies'\n",
    "]\n",
    "\n",
    "for col in internet_cols:\n",
    "    data[col] = data[col].replace({'No internet service': 'No'})\n",
    "    data[col] = data[col].map({'Yes': 1, 'No': 0})\n"
   ]
  },
  {
   "cell_type": "code",
   "execution_count": 66,
   "id": "d8bca6d7",
   "metadata": {},
   "outputs": [],
   "source": [
    "\n",
    "\n",
    "data.drop(['CustomerID', 'Lat Long'], axis=1, inplace=True)\n",
    "\n"
   ]
  },
  {
   "cell_type": "code",
   "execution_count": 67,
   "id": "00df9f85",
   "metadata": {},
   "outputs": [
    {
     "data": {
      "text/html": [
       "<div>\n",
       "<style scoped>\n",
       "    .dataframe tbody tr th:only-of-type {\n",
       "        vertical-align: middle;\n",
       "    }\n",
       "\n",
       "    .dataframe tbody tr th {\n",
       "        vertical-align: top;\n",
       "    }\n",
       "\n",
       "    .dataframe thead th {\n",
       "        text-align: right;\n",
       "    }\n",
       "</style>\n",
       "<table border=\"1\" class=\"dataframe\">\n",
       "  <thead>\n",
       "    <tr style=\"text-align: right;\">\n",
       "      <th></th>\n",
       "      <th>Count</th>\n",
       "      <th>Country</th>\n",
       "      <th>State</th>\n",
       "      <th>City</th>\n",
       "      <th>Zip Code</th>\n",
       "      <th>Latitude</th>\n",
       "      <th>Longitude</th>\n",
       "      <th>Senior Citizen</th>\n",
       "      <th>Partner</th>\n",
       "      <th>Dependents</th>\n",
       "      <th>...</th>\n",
       "      <th>CLTV</th>\n",
       "      <th>Churn Reason</th>\n",
       "      <th>Internet Service_Fiber optic</th>\n",
       "      <th>Internet Service_No</th>\n",
       "      <th>Contract_One year</th>\n",
       "      <th>Contract_Two year</th>\n",
       "      <th>Payment Method_Credit card (automatic)</th>\n",
       "      <th>Payment Method_Electronic check</th>\n",
       "      <th>Payment Method_Mailed check</th>\n",
       "      <th>Gender_Male</th>\n",
       "    </tr>\n",
       "  </thead>\n",
       "  <tbody>\n",
       "    <tr>\n",
       "      <th>0</th>\n",
       "      <td>1</td>\n",
       "      <td>United States</td>\n",
       "      <td>California</td>\n",
       "      <td>Los Angeles</td>\n",
       "      <td>90003</td>\n",
       "      <td>33.964131</td>\n",
       "      <td>-118.272783</td>\n",
       "      <td>0</td>\n",
       "      <td>0</td>\n",
       "      <td>0</td>\n",
       "      <td>...</td>\n",
       "      <td>3239</td>\n",
       "      <td>Competitor made better offer</td>\n",
       "      <td>0</td>\n",
       "      <td>0</td>\n",
       "      <td>0</td>\n",
       "      <td>0</td>\n",
       "      <td>0</td>\n",
       "      <td>0</td>\n",
       "      <td>1</td>\n",
       "      <td>1</td>\n",
       "    </tr>\n",
       "    <tr>\n",
       "      <th>1</th>\n",
       "      <td>1</td>\n",
       "      <td>United States</td>\n",
       "      <td>California</td>\n",
       "      <td>Los Angeles</td>\n",
       "      <td>90005</td>\n",
       "      <td>34.059281</td>\n",
       "      <td>-118.307420</td>\n",
       "      <td>0</td>\n",
       "      <td>0</td>\n",
       "      <td>1</td>\n",
       "      <td>...</td>\n",
       "      <td>2701</td>\n",
       "      <td>Moved</td>\n",
       "      <td>1</td>\n",
       "      <td>0</td>\n",
       "      <td>0</td>\n",
       "      <td>0</td>\n",
       "      <td>0</td>\n",
       "      <td>1</td>\n",
       "      <td>0</td>\n",
       "      <td>0</td>\n",
       "    </tr>\n",
       "    <tr>\n",
       "      <th>2</th>\n",
       "      <td>1</td>\n",
       "      <td>United States</td>\n",
       "      <td>California</td>\n",
       "      <td>Los Angeles</td>\n",
       "      <td>90006</td>\n",
       "      <td>34.048013</td>\n",
       "      <td>-118.293953</td>\n",
       "      <td>0</td>\n",
       "      <td>0</td>\n",
       "      <td>1</td>\n",
       "      <td>...</td>\n",
       "      <td>5372</td>\n",
       "      <td>Moved</td>\n",
       "      <td>1</td>\n",
       "      <td>0</td>\n",
       "      <td>0</td>\n",
       "      <td>0</td>\n",
       "      <td>0</td>\n",
       "      <td>1</td>\n",
       "      <td>0</td>\n",
       "      <td>0</td>\n",
       "    </tr>\n",
       "    <tr>\n",
       "      <th>3</th>\n",
       "      <td>1</td>\n",
       "      <td>United States</td>\n",
       "      <td>California</td>\n",
       "      <td>Los Angeles</td>\n",
       "      <td>90010</td>\n",
       "      <td>34.062125</td>\n",
       "      <td>-118.315709</td>\n",
       "      <td>0</td>\n",
       "      <td>1</td>\n",
       "      <td>1</td>\n",
       "      <td>...</td>\n",
       "      <td>5003</td>\n",
       "      <td>Moved</td>\n",
       "      <td>1</td>\n",
       "      <td>0</td>\n",
       "      <td>0</td>\n",
       "      <td>0</td>\n",
       "      <td>0</td>\n",
       "      <td>1</td>\n",
       "      <td>0</td>\n",
       "      <td>0</td>\n",
       "    </tr>\n",
       "    <tr>\n",
       "      <th>4</th>\n",
       "      <td>1</td>\n",
       "      <td>United States</td>\n",
       "      <td>California</td>\n",
       "      <td>Los Angeles</td>\n",
       "      <td>90015</td>\n",
       "      <td>34.039224</td>\n",
       "      <td>-118.266293</td>\n",
       "      <td>0</td>\n",
       "      <td>0</td>\n",
       "      <td>1</td>\n",
       "      <td>...</td>\n",
       "      <td>5340</td>\n",
       "      <td>Competitor had better devices</td>\n",
       "      <td>1</td>\n",
       "      <td>0</td>\n",
       "      <td>0</td>\n",
       "      <td>0</td>\n",
       "      <td>0</td>\n",
       "      <td>0</td>\n",
       "      <td>0</td>\n",
       "      <td>1</td>\n",
       "    </tr>\n",
       "    <tr>\n",
       "      <th>...</th>\n",
       "      <td>...</td>\n",
       "      <td>...</td>\n",
       "      <td>...</td>\n",
       "      <td>...</td>\n",
       "      <td>...</td>\n",
       "      <td>...</td>\n",
       "      <td>...</td>\n",
       "      <td>...</td>\n",
       "      <td>...</td>\n",
       "      <td>...</td>\n",
       "      <td>...</td>\n",
       "      <td>...</td>\n",
       "      <td>...</td>\n",
       "      <td>...</td>\n",
       "      <td>...</td>\n",
       "      <td>...</td>\n",
       "      <td>...</td>\n",
       "      <td>...</td>\n",
       "      <td>...</td>\n",
       "      <td>...</td>\n",
       "      <td>...</td>\n",
       "    </tr>\n",
       "    <tr>\n",
       "      <th>7038</th>\n",
       "      <td>1</td>\n",
       "      <td>United States</td>\n",
       "      <td>California</td>\n",
       "      <td>Landers</td>\n",
       "      <td>92285</td>\n",
       "      <td>34.341737</td>\n",
       "      <td>-116.539416</td>\n",
       "      <td>0</td>\n",
       "      <td>0</td>\n",
       "      <td>0</td>\n",
       "      <td>...</td>\n",
       "      <td>5306</td>\n",
       "      <td>Not Churned</td>\n",
       "      <td>0</td>\n",
       "      <td>1</td>\n",
       "      <td>0</td>\n",
       "      <td>1</td>\n",
       "      <td>0</td>\n",
       "      <td>0</td>\n",
       "      <td>0</td>\n",
       "      <td>0</td>\n",
       "    </tr>\n",
       "    <tr>\n",
       "      <th>7039</th>\n",
       "      <td>1</td>\n",
       "      <td>United States</td>\n",
       "      <td>California</td>\n",
       "      <td>Adelanto</td>\n",
       "      <td>92301</td>\n",
       "      <td>34.667815</td>\n",
       "      <td>-117.536183</td>\n",
       "      <td>0</td>\n",
       "      <td>1</td>\n",
       "      <td>1</td>\n",
       "      <td>...</td>\n",
       "      <td>2140</td>\n",
       "      <td>Not Churned</td>\n",
       "      <td>0</td>\n",
       "      <td>0</td>\n",
       "      <td>1</td>\n",
       "      <td>0</td>\n",
       "      <td>0</td>\n",
       "      <td>0</td>\n",
       "      <td>1</td>\n",
       "      <td>1</td>\n",
       "    </tr>\n",
       "    <tr>\n",
       "      <th>7040</th>\n",
       "      <td>1</td>\n",
       "      <td>United States</td>\n",
       "      <td>California</td>\n",
       "      <td>Amboy</td>\n",
       "      <td>92304</td>\n",
       "      <td>34.559882</td>\n",
       "      <td>-115.637164</td>\n",
       "      <td>0</td>\n",
       "      <td>1</td>\n",
       "      <td>1</td>\n",
       "      <td>...</td>\n",
       "      <td>5560</td>\n",
       "      <td>Not Churned</td>\n",
       "      <td>1</td>\n",
       "      <td>0</td>\n",
       "      <td>1</td>\n",
       "      <td>0</td>\n",
       "      <td>1</td>\n",
       "      <td>0</td>\n",
       "      <td>0</td>\n",
       "      <td>0</td>\n",
       "    </tr>\n",
       "    <tr>\n",
       "      <th>7041</th>\n",
       "      <td>1</td>\n",
       "      <td>United States</td>\n",
       "      <td>California</td>\n",
       "      <td>Angelus Oaks</td>\n",
       "      <td>92305</td>\n",
       "      <td>34.167800</td>\n",
       "      <td>-116.864330</td>\n",
       "      <td>0</td>\n",
       "      <td>1</td>\n",
       "      <td>1</td>\n",
       "      <td>...</td>\n",
       "      <td>2793</td>\n",
       "      <td>Not Churned</td>\n",
       "      <td>0</td>\n",
       "      <td>0</td>\n",
       "      <td>0</td>\n",
       "      <td>0</td>\n",
       "      <td>0</td>\n",
       "      <td>1</td>\n",
       "      <td>0</td>\n",
       "      <td>0</td>\n",
       "    </tr>\n",
       "    <tr>\n",
       "      <th>7042</th>\n",
       "      <td>1</td>\n",
       "      <td>United States</td>\n",
       "      <td>California</td>\n",
       "      <td>Apple Valley</td>\n",
       "      <td>92308</td>\n",
       "      <td>34.424926</td>\n",
       "      <td>-117.184503</td>\n",
       "      <td>0</td>\n",
       "      <td>0</td>\n",
       "      <td>0</td>\n",
       "      <td>...</td>\n",
       "      <td>5097</td>\n",
       "      <td>Not Churned</td>\n",
       "      <td>1</td>\n",
       "      <td>0</td>\n",
       "      <td>0</td>\n",
       "      <td>1</td>\n",
       "      <td>0</td>\n",
       "      <td>0</td>\n",
       "      <td>0</td>\n",
       "      <td>1</td>\n",
       "    </tr>\n",
       "  </tbody>\n",
       "</table>\n",
       "<p>7043 rows × 35 columns</p>\n",
       "</div>"
      ],
      "text/plain": [
       "      Count        Country       State          City  Zip Code   Latitude  \\\n",
       "0         1  United States  California   Los Angeles     90003  33.964131   \n",
       "1         1  United States  California   Los Angeles     90005  34.059281   \n",
       "2         1  United States  California   Los Angeles     90006  34.048013   \n",
       "3         1  United States  California   Los Angeles     90010  34.062125   \n",
       "4         1  United States  California   Los Angeles     90015  34.039224   \n",
       "...     ...            ...         ...           ...       ...        ...   \n",
       "7038      1  United States  California       Landers     92285  34.341737   \n",
       "7039      1  United States  California      Adelanto     92301  34.667815   \n",
       "7040      1  United States  California         Amboy     92304  34.559882   \n",
       "7041      1  United States  California  Angelus Oaks     92305  34.167800   \n",
       "7042      1  United States  California  Apple Valley     92308  34.424926   \n",
       "\n",
       "       Longitude  Senior Citizen  Partner  Dependents  ...  CLTV  \\\n",
       "0    -118.272783               0        0           0  ...  3239   \n",
       "1    -118.307420               0        0           1  ...  2701   \n",
       "2    -118.293953               0        0           1  ...  5372   \n",
       "3    -118.315709               0        1           1  ...  5003   \n",
       "4    -118.266293               0        0           1  ...  5340   \n",
       "...          ...             ...      ...         ...  ...   ...   \n",
       "7038 -116.539416               0        0           0  ...  5306   \n",
       "7039 -117.536183               0        1           1  ...  2140   \n",
       "7040 -115.637164               0        1           1  ...  5560   \n",
       "7041 -116.864330               0        1           1  ...  2793   \n",
       "7042 -117.184503               0        0           0  ...  5097   \n",
       "\n",
       "                       Churn Reason  Internet Service_Fiber optic  \\\n",
       "0      Competitor made better offer                             0   \n",
       "1                             Moved                             1   \n",
       "2                             Moved                             1   \n",
       "3                             Moved                             1   \n",
       "4     Competitor had better devices                             1   \n",
       "...                             ...                           ...   \n",
       "7038                    Not Churned                             0   \n",
       "7039                    Not Churned                             0   \n",
       "7040                    Not Churned                             1   \n",
       "7041                    Not Churned                             0   \n",
       "7042                    Not Churned                             1   \n",
       "\n",
       "      Internet Service_No  Contract_One year  Contract_Two year  \\\n",
       "0                       0                  0                  0   \n",
       "1                       0                  0                  0   \n",
       "2                       0                  0                  0   \n",
       "3                       0                  0                  0   \n",
       "4                       0                  0                  0   \n",
       "...                   ...                ...                ...   \n",
       "7038                    1                  0                  1   \n",
       "7039                    0                  1                  0   \n",
       "7040                    0                  1                  0   \n",
       "7041                    0                  0                  0   \n",
       "7042                    0                  0                  1   \n",
       "\n",
       "      Payment Method_Credit card (automatic)  Payment Method_Electronic check  \\\n",
       "0                                          0                                0   \n",
       "1                                          0                                1   \n",
       "2                                          0                                1   \n",
       "3                                          0                                1   \n",
       "4                                          0                                0   \n",
       "...                                      ...                              ...   \n",
       "7038                                       0                                0   \n",
       "7039                                       0                                0   \n",
       "7040                                       1                                0   \n",
       "7041                                       0                                1   \n",
       "7042                                       0                                0   \n",
       "\n",
       "      Payment Method_Mailed check  Gender_Male  \n",
       "0                               1            1  \n",
       "1                               0            0  \n",
       "2                               0            0  \n",
       "3                               0            0  \n",
       "4                               0            1  \n",
       "...                           ...          ...  \n",
       "7038                            0            0  \n",
       "7039                            1            1  \n",
       "7040                            0            0  \n",
       "7041                            0            0  \n",
       "7042                            0            1  \n",
       "\n",
       "[7043 rows x 35 columns]"
      ]
     },
     "execution_count": 67,
     "metadata": {},
     "output_type": "execute_result"
    }
   ],
   "source": [
    "data"
   ]
  },
  {
   "cell_type": "code",
   "execution_count": null,
   "id": "beebaf82",
   "metadata": {},
   "outputs": [],
   "source": []
  },
  {
   "cell_type": "code",
   "execution_count": 76,
   "id": "4a325cef",
   "metadata": {},
   "outputs": [
    {
     "name": "stdout",
     "output_type": "stream",
     "text": [
      "Processed data saved to 'processed_telco_customer_churn.json'\n"
     ]
    }
   ],
   "source": [
    "data.to_json('OUTPUT_CLEANED_telco_customer_churn.json', orient='records', indent=4)\n",
    "\n",
    "print(\"Processed data saved to 'processed_telco_customer_churn.json'\")"
   ]
  },
  {
   "cell_type": "code",
   "execution_count": null,
   "id": "1ea2d9d9",
   "metadata": {},
   "outputs": [],
   "source": []
  },
  {
   "cell_type": "code",
   "execution_count": null,
   "id": "791f6ab3",
   "metadata": {},
   "outputs": [],
   "source": []
  },
  {
   "cell_type": "code",
   "execution_count": null,
   "id": "4bb30d06",
   "metadata": {},
   "outputs": [],
   "source": []
  },
  {
   "cell_type": "code",
   "execution_count": null,
   "id": "abd47505",
   "metadata": {},
   "outputs": [],
   "source": []
  },
  {
   "cell_type": "code",
   "execution_count": null,
   "id": "184bc53f",
   "metadata": {},
   "outputs": [],
   "source": []
  },
  {
   "cell_type": "code",
   "execution_count": null,
   "id": "3f7f43f0",
   "metadata": {},
   "outputs": [],
   "source": []
  }
 ],
 "metadata": {
  "kernelspec": {
   "display_name": "Python 3 (ipykernel)",
   "language": "python",
   "name": "python3"
  },
  "language_info": {
   "codemirror_mode": {
    "name": "ipython",
    "version": 3
   },
   "file_extension": ".py",
   "mimetype": "text/x-python",
   "name": "python",
   "nbconvert_exporter": "python",
   "pygments_lexer": "ipython3",
   "version": "3.9.13"
  }
 },
 "nbformat": 4,
 "nbformat_minor": 5
}
